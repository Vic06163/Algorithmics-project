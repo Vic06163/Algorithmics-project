{
 "cells": [
  {
   "cell_type": "code",
   "execution_count": 2,
   "metadata": {},
   "outputs": [],
   "source": [
    "import numpy as np\n",
    "import matplotlib.pyplot as plt\n",
    "import random\n",
    "import networkx as nx\n",
    "\n",
    "np.random.seed(0) # Fix seed for reproducibility\n",
    "random.seed(0) # Fix seed for reproducibility"
   ]
  },
  {
   "cell_type": "code",
   "execution_count": 4,
   "metadata": {},
   "outputs": [],
   "source": [
    "def generate_random_graph(n=10, weight_range=(1, 10)):\n",
    "    # First thing is to create the map that we're trying to visit\n",
    "    matrix = np.zeros((n, n))\n",
    "    for i in range(n):\n",
    "        for j in range(i+1, n):\n",
    "            weight = random.randint(*weight_range)\n",
    "            matrix[i][j] = weight\n",
    "            matrix[j][i] = weight\n",
    "    return matrix"
   ]
  },
  {
   "attachments": {},
   "cell_type": "markdown",
   "metadata": {},
   "source": [
    "# 1. Initialisation\n",
    "\n",
    "Créez une population initiale. Cette population est généralement générée aléatoirement. Chaque individu, ou chromosome, dans cette population représente une solution possible au problème (dans ce cas, une séquence possible de livraisons pour les véhicules)."
   ]
  },
  {
   "cell_type": "code",
   "execution_count": 5,
   "metadata": {},
   "outputs": [
    {
     "name": "stdout",
     "output_type": "stream",
     "text": [
      "[{0: [0, 7, 5, 4, 0], 1: [0, 1, 3, 9, 0], 2: [0, 2, 6, 8, 0]}, {0: [0, 8, 2, 6, 0], 1: [0, 1, 9, 5, 0], 2: [0, 7, 3, 4, 0]}, {0: [0, 2, 7, 4, 0], 1: [0, 6, 5, 3, 0], 2: [0, 1, 8, 9, 0]}, {0: [0, 4, 1, 8, 0], 1: [0, 3, 2, 5, 0], 2: [0, 7, 6, 9, 0]}, {0: [0, 4, 9, 1, 0], 1: [0, 8, 3, 2, 0], 2: [0, 5, 6, 7, 0]}, {0: [0, 7, 3, 8, 0], 1: [0, 2, 6, 9, 0], 2: [0, 4, 5, 1, 0]}, {0: [0, 9, 1, 4, 0], 1: [0, 3, 5, 6, 0], 2: [0, 8, 7, 2, 0]}, {0: [0, 1, 2, 6, 0], 1: [0, 8, 9, 3, 0], 2: [0, 5, 7, 4, 0]}, {0: [0, 9, 7, 8, 0], 1: [0, 3, 4, 1, 0], 2: [0, 5, 6, 2, 0]}, {0: [0, 4, 8, 7, 0], 1: [0, 3, 2, 6, 0], 2: [0, 9, 5, 1, 0]}]\n"
     ]
    }
   ],
   "source": [
    "def create_individual(nb_truck, nb_client, starting_point=0):\n",
    "    \"\"\"\n",
    "    Create a random individual\n",
    "    \"\"\"\n",
    "    individual = {}\n",
    "    clients = list(range(1, nb_client))\n",
    "    random.shuffle(clients)\n",
    "    \n",
    "    groups = np.array_split(clients, nb_truck)\n",
    "    for i, group in enumerate(groups):\n",
    "        individual[i] = [starting_point] + list(group) + [starting_point]\n",
    "    return individual\n",
    "\n",
    "def create_population(nb_truck, nb_client, starting_point=0, size=100):\n",
    "    \"\"\"\n",
    "    Create a population of individuals\n",
    "    \"\"\"\n",
    "    population = []\n",
    "    for i in range(size):\n",
    "        population.append(create_individual(nb_truck, nb_client, starting_point))\n",
    "    return population\n",
    "\n",
    "population = create_population(nb_truck=3, nb_client=10, size=10)\n",
    "print(population)"
   ]
  },
  {
   "attachments": {},
   "cell_type": "markdown",
   "metadata": {},
   "source": [
    "# 2. Evaluation\n",
    "Calculez la fonction de fitness pour chaque individu dans la population. La fonction de fitness détermine la qualité d'une solution. Dans le cas du VRP, cela pourrait être la distance totale parcourue par tous les véhicules."
   ]
  },
  {
   "cell_type": "code",
   "execution_count": 6,
   "metadata": {},
   "outputs": [
    {
     "name": "stdout",
     "output_type": "stream",
     "text": [
      "65.0\n"
     ]
    }
   ],
   "source": [
    "def fitness(individual, adjency_matrix):\n",
    "    \"\"\"\n",
    "    Compute the fitness of an individual\n",
    "    \"\"\"\n",
    "    fitness = 0\n",
    "    for truck in individual:\n",
    "        for i in range(len(individual[truck])-1):\n",
    "            fitness += adjency_matrix[individual[truck][i]][individual[truck][i+1]]\n",
    "    return fitness\n",
    "\n",
    "f = fitness(create_individual(3, 10), adjency_matrix)\n",
    "print(f)\n",
    "\n"
   ]
  },
  {
   "attachments": {},
   "cell_type": "markdown",
   "metadata": {},
   "source": [
    "# 3. Selection\n",
    "Sélectionnez des individus pour la reproduction. Il existe plusieurs stratégies de sélection, comme la sélection par roulette (plus la fitness d'un individu est élevée, plus il a de chances d'être sélectionné) ou la sélection par tournoi (choisissez aléatoirement quelques individus et sélectionnez le meilleur parmi eux)."
   ]
  },
  {
   "cell_type": "code",
   "execution_count": 9,
   "metadata": {},
   "outputs": [],
   "source": [
    "def selection(population, adjency_matrix, k=10):\n",
    "    \"\"\"\n",
    "    Select the best individuals in the population\n",
    "    \"\"\"\n",
    "    population = sorted(population, key=lambda x: fitness(x, adjency_matrix))\n",
    "    return population[:k]"
   ]
  },
  {
   "attachments": {},
   "cell_type": "markdown",
   "metadata": {},
   "source": [
    "# 4. Crossover\n",
    "Créez une nouvelle génération de chromosomes en croisant les individus sélectionnés. Par exemple, en prenant la première moitié du chemin d'un parent et en complétant avec les villes restantes dans l'ordre qu'elles apparaissent dans le second parent."
   ]
  },
  {
   "cell_type": "code",
   "execution_count": 178,
   "metadata": {},
   "outputs": [
    {
     "name": "stdout",
     "output_type": "stream",
     "text": [
      "Parent 1: {0: [0, 6, 2, 8, 0], 1: [0, 3, 5, 4, 0], 2: [0, 7, 9, 1, 0]}\n",
      "Parent 2: {0: [0, 9, 2, 4, 0], 1: [0, 7, 3, 1, 0], 2: [0, 5, 6, 8, 0]}\n",
      "Child: {0: [0, 9, 2, 4, 0], 1: [0, 3, 5, 4, 0], 2: [0, 5, 6, 8, 0]}\n"
     ]
    }
   ],
   "source": [
    "import random\n",
    "\n",
    "def crossover(individu1, individu2):\n",
    "    # Choisir aléatoirement un cycle de chaque individu\n",
    "    cycle1 = random.choice(list(individu1.keys()))\n",
    "    cycle2 = random.choice(list(individu2.keys()))\n",
    "\n",
    "    # Echanger ces cycles entre individus\n",
    "    individu1[cycle1], individu2[cycle2] = individu2[cycle2], individu1[cycle1]\n",
    "\n",
    "    # Assurer que les sommets ne sont visités qu'une seule fois\n",
    "    for individu in [individu1, individu2]:\n",
    "        sommets_visites = {}\n",
    "        for cycle in individu:\n",
    "            for sommet in individu[cycle][1:-1]:  # Exclure le départ et l'arrivée\n",
    "                if sommet in sommets_visites:\n",
    "                    # Si le sommet a déjà été visité, remplacer par un sommet non visité\n",
    "                    non_visites = set(range(1, 10)) - set(sommets_visites.keys())\n",
    "                    if non_visites:\n",
    "                        new_sommet = random.choice(list(non_visites))\n",
    "                        individu[cycle][individu[cycle].index(sommet)] = new_sommet\n",
    "                        sommets_visites[new_sommet] = True\n",
    "                else:\n",
    "                    sommets_visites[sommet] = True\n",
    "\n",
    "    return individu1, individu2\n",
    "\n",
    "parent1 = create_individual(nb_truck=3, nb_client=10, starting_point=0)\n",
    "parent2 = create_individual(nb_truck=3, nb_client=10, starting_point=0)\n",
    "child = crossover(parent1, parent2)\n",
    "print(\"Parent 1:\", parent1)\n",
    "print(\"Parent 2:\", parent2)\n",
    "print(\"Child:\", child)"
   ]
  },
  {
   "attachments": {},
   "cell_type": "markdown",
   "metadata": {},
   "source": [
    "# 4. Mutation\n",
    "Apportez de petites modifications aléatoires à certains individus dans la nouvelle génération. Par exemple, en échangeant deux villes dans l'itinéraire."
   ]
  },
  {
   "cell_type": "code",
   "execution_count": 174,
   "metadata": {},
   "outputs": [],
   "source": [
    "def mutation(individual, adjency_matrix):\n",
    "    \"\"\"\n",
    "    Mutate an individual\n",
    "    \"\"\"\n",
    "    # We need to select a truck\n",
    "    truck = random.choice(list(individual.keys()))\n",
    "    # We need to select two clients\n",
    "    client1, client2 = random.sample(range(1, len(individual[truck])-1), 2)\n",
    "    # We need to swap the two clients\n",
    "    individual[truck][client1], individual[truck][client2] = individual[truck][client2], individual[truck][client1]\n",
    "    return individual"
   ]
  },
  {
   "attachments": {},
   "cell_type": "markdown",
   "metadata": {},
   "source": [
    "# 5. Remplacement\n",
    "Remplacez l'ancienne population par la nouvelle génération d'individus."
   ]
  },
  {
   "cell_type": "code",
   "execution_count": 25,
   "metadata": {},
   "outputs": [],
   "source": [
    "def renew_population(population, adjency_matrix, k=10, mutation_rate=0.15):\n",
    "    \"\"\"\n",
    "    Renew the population\n",
    "    \"\"\"\n",
    "    # Select the best individuals\n",
    "    population_reproduction = selection(population, adjency_matrix, k=k)\n",
    "    # Create new individuals by crossover\n",
    "    for i in range(len(population)):\n",
    "        parent1 = random.choice(population_reproduction)\n",
    "        parent2 = random.choice(population_reproduction)\n",
    "        population[i] = crossover(parent1, parent2)\n",
    "    # Mutate the individuals\n",
    "    for i in range(len(population)):\n",
    "        if random.random() < mutation_rate:\n",
    "            population[i] = mutation(population[i], adjency_matrix)\n",
    "    return population\n",
    "\n",
    "population = create_population(nb_truck=3, nb_client=10, size=10)"
   ]
  },
  {
   "attachments": {},
   "cell_type": "markdown",
   "metadata": {},
   "source": [
    "# 6. Convergence\n",
    "Vérifiez si l'algorithme a atteint un critère d'arrêt. Cela peut être un nombre maximum de générations, un temps d'exécution maximal, ou un seuil de fitness. Si le critère n'est pas atteint, revenez à l'étape 2."
   ]
  },
  {
   "cell_type": "code",
   "execution_count": 28,
   "metadata": {},
   "outputs": [],
   "source": [
    "def convergence(population, adjency_matrix):\n",
    "    \"\"\"\n",
    "    Check if the population has converged\n",
    "    \"\"\"\n",
    "    # We need to check if all the individuals have the same fitness\n",
    "    fitnesses = [fitness(individual, adjency_matrix) for individual in population]\n",
    "    return len(set(fitnesses)) == 1"
   ]
  },
  {
   "attachments": {},
   "cell_type": "markdown",
   "metadata": {},
   "source": [
    "# 7. Run"
   ]
  },
  {
   "cell_type": "code",
   "execution_count": 183,
   "metadata": {},
   "outputs": [
    {
     "name": "stdout",
     "output_type": "stream",
     "text": [
      "Iteration: 1 Convergence: False Best individual: 28.0\n",
      "Iteration: 2 Convergence: False Best individual: 34.0\n",
      "Iteration: 3 Convergence: True Best individual: 31.0\n",
      "{0: [0, 1, 3, 2, 4, 0]}\n"
     ]
    }
   ],
   "source": [
    "def genetic_algorithm(adjency_matrix, nb_truck, starting_point=0, population_size=100, k=10, mutation_rate=0.15):\n",
    "    \"\"\"\n",
    "    Run the genetic algorithm\n",
    "    \"\"\"\n",
    "    # Calculate the number of clients from the adjency matrix\n",
    "    nb_client = len(adjency_matrix)\n",
    "\n",
    "    # Create the initial population\n",
    "    population = create_population(nb_truck, nb_client, starting_point, population_size)\n",
    "    # While the population has not converged\n",
    "    t = 0\n",
    "    while not convergence(population, adjency_matrix):\n",
    "        # Renew the population\n",
    "        population = renew_population(population, adjency_matrix, k, mutation_rate)\n",
    "        t += 1\n",
    "        print(\"Iteration:\", t, \"Convergence:\", convergence(population, adjency_matrix), \"Best individual:\", fitness(selection(population, adjency_matrix, k=1)[0], adjency_matrix))\n",
    "    # Select the best individual\n",
    "    best_individual = selection(population, adjency_matrix, k=1)[0]\n",
    "    return best_individual\n",
    "\n",
    "adjency_matrix = generate_random_graph(5)\n",
    "best_individual = genetic_algorithm(adjency_matrix, nb_truck=1, starting_point=0, population_size=100, k=10, mutation_rate=1)\n",
    "print(best_individual)"
   ]
  },
  {
   "cell_type": "code",
   "execution_count": 191,
   "metadata": {},
   "outputs": [
    {
     "data": {
      "image/png": "[encoded data removed]",
      "text/plain": [
       "<Figure size 640x480 with 1 Axes>"
      ]
     },
     "metadata": {},
     "output_type": "display_data"
    }
   ],
   "source": [
    "from mpl_interactions import ioff, panhandler, zoom_factory\n",
    "import matplotlib.pyplot as plt\n",
    "import networkx as nx\n",
    "\n",
    "\n",
    "def plot_graph(adjency_matrix, trajets):\n",
    "    # Liste des couleurs pour les différents trajets\n",
    "    colors = ['red', 'blue', 'green', 'yellow', 'purple', 'orange', 'pink', 'brown', 'grey']\n",
    "\n",
    "    # Création du graphe\n",
    "    G = nx.from_numpy_array(adjency_matrix)\n",
    "\n",
    "    # Ajout des arêtes pour chaque trajet\n",
    "    for camion, trajet in trajets.items():\n",
    "        for i in range(len(trajet) - 1):\n",
    "            G.add_edge(trajet[i], trajet[i+1], weight=adjency_matrix[trajet[i]][trajet[i+1]])\n",
    "\n",
    "    # Dessin du graphe\n",
    "    pos = nx.spring_layout(G)\n",
    "\n",
    "    edge_labels = nx.get_edge_attributes(G, \"weight\")\n",
    "    nx.draw_networkx_edge_labels(G, pos, edge_labels, font_size=15)\n",
    "    \n",
    "\n",
    "    # Dessin des noeuds et des arêtes en noir\n",
    "    nx.draw_networkx(G, pos, with_labels=True, node_color='white', edge_color='black', style='dashed')\n",
    "\n",
    "    # Dessin des trajets par dessus en couleurs\n",
    "    for camion, trajet in trajets.items():\n",
    "        trajet_edges = [(trajet[i], trajet[i+1]) for i in range(len(trajet) - 1)]\n",
    "        nx.draw_networkx_nodes(G, pos, nodelist=trajet, node_color=colors[camion])\n",
    "        nx.draw_networkx_edges(G, pos, edgelist=trajet_edges, edge_color=colors[camion])\n",
    "\n",
    "    plt.show()\n",
    "\n",
    "\n",
    "plot_graph(adjency_matrix, best_individual)"
   ]
  },
  {
   "cell_type": "code",
   "execution_count": 14,
   "metadata": {},
   "outputs": [
    {
     "data": {
      "text/plain": [
       "{0: [0, 9, 8, 3, 0], 1: [0, 3, 9, 1, 0], 2: [0, 5, 1, 7, 0]}"
      ]
     },
     "execution_count": 14,
     "metadata": {},
     "output_type": "execute_result"
    }
   ],
   "source": [
    "# Check if an individual is valid\n",
    "def is_valid(individual, adjency_matrix, starting_point=0):\n",
    "    dict_client = {i:0 for i in range(len(adjency_matrix))}\n",
    "    is_valid = True\n",
    "\n",
    "    for truck, trajet in individual.items():\n",
    "        # Check if the cycle starts and ends at the starting point\n",
    "        if trajet[0] != starting_point or trajet[-1] != starting_point:\n",
    "            is_valid = False\n",
    "            break\n",
    "\n",
    "        for vertice in trajet[1:-1]:\n",
    "            dict_client[vertice] += 1\n",
    "\n",
    "    # Check if all the clients are visited exactly once\n",
    "    for client, nb_visits in dict_client.items():\n",
    "        if nb_visits != 1:\n",
    "            is_valid = False\n",
    "            break\n",
    "\n",
    "    return is_valid\n",
    "\n",
    "is_valid(best_individual, adjency_matrix)\n",
    "best_individual"
   ]
  }
 ],
 "metadata": {
  "kernelspec": {
   "display_name": "algo_env",
   "language": "python",
   "name": "python3"
  },
  "language_info": {
   "codemirror_mode": {
    "name": "ipython",
    "version": 3
   },
   "file_extension": ".py",
   "mimetype": "text/x-python",
   "name": "python",
   "nbconvert_exporter": "python",
   "pygments_lexer": "ipython3",
   "version": "3.11.3"
  },
  "orig_nbformat": 4
 },
 "nbformat": 4,
 "nbformat_minor": 2
}
