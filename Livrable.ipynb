{
 "cells": [
  {
   "attachments": {},
   "cell_type": "markdown",
   "metadata": {},
   "source": [
    "<div style='display: flex; flex-direction: row; align-items: center; justify-content: space-between; color: black;  background: #fbe216; margin-right: 50px; height: 100px;'>\n",
    "<h1 style=\"width: 90%; text-align: center; padding-top: 20px; font-weight:bold;\">Projet Algorithmique Avancée</h1>\n",
    "<img src=\"https://www.cesi.fr/wp-content/uploads/2022/07/lg_cesi.png\" style=\"width: 100px; height: 100px;\">\n",
    "</div>\n",
    "\n",
    "<p>\n",
    "    Aujourd'hui, la réduction des émissions de gaz à effet de serre est un enjeu prioritaire pour de nombreux pays. De nombreux accords ont été signés entre les états. Les premiers engagements, sont apparus lors de la signature du protocole de Kyoto en 1997. Les scientifiques jugent aujourd'hui insufisant l'entrée en vigueur de ce protocole face à l'avancement du réchauffement climatique.<br/>\n",
    "    L'action est donc portée sur un changement des comportements au sein de notre société pour essayer de diminuer notre impact environnemental. Ceci commence notamment avec une adaptation de l'usage des transports.\n",
    "</p>\n",
    "\n",
    "<h4 style='text-align: left; color: #fbe216; font-weight:bold; padding:10px; margin-right: 50px;'>Présentation de l'équipe en charge du projet</h4>\n",
    "\n",
    "<div style=\"display: flex; flex-direction: row;\">\n",
    "    <div style=\"display: flex; flex-direction: column;\">\n",
    "        <img src=\"https://dsm04pap003files.storage.live.com/y4mrPh_yseUFfOwtw3T7wvGeQdKdXiR8yh_3CjvI4iWvuvra7VV8dRTKsZiE8hJ3bolrevZjC4hL0yRh8Edzq-e4zxUuJYBrx8DIjYvzTb5UAf64CuMMSt1zzjMv4d5rmrqqCsrEo2S3wWh9E2eHvMYpyy9XcvZo7fkQf1O2inCrm7TLMXn8L3dUK7HSEvVABnb?width=800&height=800&cropmode=center\" />\n",
    "        <p style=\"text-align: center; font-weight:bold;\">Victor BILLAT <br/><br/> <span style=\"font-weight:normal;\">Chef de projet<span></p>\n",
    "    </div>\n",
    "    <div style=\"display: flex; flex-direction: column;\">\n",
    "        <img src=\"https://dsm04pap003files.storage.live.com/y4mdrJBIrMjk5K4hzU8-NjQcWUPl16XfAnWJ3A8cQO9quUGBzFtPOWRlPFmVbyz65M2lWD-zj44bSaP7I4jEHGwNh71ojMqM0wlAX-iRZzav3XJugn5CBOQzmWqGmCvlJtYhk_7WIJYEF7cCXavTmJYvPaOyNrqrK_s2Vq7pGAvvwCw2MhIsyp-E1UMCmL1G6Lu?width=800&height=800&cropmode=none\" />\n",
    "        <p style=\"text-align: center; font-weight:bold;\">Vincent VERLAAN</p>\n",
    "    </div>\n",
    "    <div style=\"display: flex; flex-direction: column;\">\n",
    "        <img src=\"https://dsm04pap003files.storage.live.com/y4moTSNS4nfGmU6y_-tBqjzSg2T1fbVCmQv0BRlF96XsCtOaxYssk6atj-pjWt9igxxffMkB30nwdea-QVGu4KllEAKuJ5zmtOJNEznMIDbg0NebAFskm70eaCtgsaKJ0uNMK4O9EWekPkDejQRAQZP2THzIexzWX124wwKoBW2Y83Ib2Ux7hlUpMf5a2qlkaFy?width=800&height=800&cropmode=center\" />\n",
    "        <p style=\"text-align: center; font-weight:bold;\">Valentin GIRAUDEAU</p>\n",
    "    </div> \n",
    "    <div style=\"display: flex; flex-direction: column;\">\n",
    "        <img src=\"https://media.licdn.com/dms/image/C4E03AQG1N6JHdPo1Tg/profile-displayphoto-shrink_800_800/0/1632410457548?e=1691020800&v=beta&t=m4IyU1snzhLHpoNZJk5ducohQaV4ppT-lrrEFjJfJrI\">\n",
    "        <p style=\"text-align: center; font-weight:bold;\">Maxime DUCASSE</p>\n",
    "    </div>\n",
    "</div>\n",
    "\n",
    "<h2 style='text-align: left; color: #fbe216; font-weight:bold; padding:10px; margin-right: 50px;'>Identification du problème</h2>\n",
    "    <p>\n",
    "        Pour répondre, à l'appel d'offre lancé par l'ADEME (Agence de l'Environnement et de la Maîtrise de l'Energie), notre équipe CesiCDP décide d'orienter son travail sur la gestion de tournée de livraison. Pour cela, nous souhaitons mettre en place une solution algortihmique permettant de minimiser le temps d'une tournée de livraison entre différentes villes au travers d'un réseau routier.\n",
    "        <br/>\n",
    "        L'objectif de ce projet consiste en :\n",
    "    </p>\n",
    "    <ul>\n",
    "        <li>La réalisation d'un algorithme capable d'accueillir des entrées de tailles variables.</li>\n",
    "        <li>Une étude statistiques du comportement du dit algorithme.</li>\n",
    "    </ul>\n",
    "    <h4 style=\"color: #fbe216\">Contraintes :</h4>\n",
    "        <p>\n",
    "            Nous avons fait le choix d'implémenter certaines contraintes à notre projet pour essayer d'obtenir des résultats plus réalistes qui tiennent compte de contraintes techniques du domaine des transport routiers. Parmis une liste de suggestion, nous en avons séléctionné deux pour notre problème :\n",
    "        </p>\n",
    "        <ul>\n",
    "            <li><strong>Traffic :</strong> L'algorithme sera capable de prendre en compte des évolution du traffic sur les différents axes en fonction des horaires de la journée. Ceci aura un impact sur la vitesse de déplacement de nos camions. Ainsi, le temps du circuit de livraison pourra être impacté.</li>\n",
    "            <li><strong>Nombre de camions :</strong> L'algorithme devra tenir compte d'un nombre de camion disponible simultanément pour pouvoir répartir les livraisons. Le calcul de la tournée inclura l’affectation des objets (et donc des points de livraison) aux différents camions disponibles, et minimisera la date de retour du dernier camion au dépôt.\n",
    "            </li>\n",
    "        </ul>\n",
    "    <h4 style=\"color: #fbe216\">Autres problèmes connus :</h4>\n",
    "        <p>\n",
    "            Notre problème correspond au <strong>problème de tournées des véhicules (Véhicule Routing Problem, VRP)</strong>. Ce dernier cherche à déterminer les différents trajets empruntés par une flotte de véhicules pour livrer différents clients avant de revenir au dépôt. Le but de ce problème est de minimiser le temps de livraison des différents produits.\n",
    "        </p>\n",
    "        <p>\n",
    "            Le problème VRP est un dérivé de celui du <strong>voyageur du commerce (Travelling Salesman Problem, TSP)</strong>. Ce dernier ne prend en considération qu'un seul véhicule pour effectuer la tournée et ainsi consiste à déterminer, selon un ensemble de villes et les distances les séparant, une tournée la plus courte pour livrer chacune des villes une et une seule fois. Ceci revient à chercher le plus court cycle hamiltonien dans un graphe G.\n",
    "        </p>\n",
    "\n",
    "\n",
    "<h2 style='text-align: left; color: #fbe216; font-weight:bold; padding:10px; margin-right: 50px;'>Définition mathématique du problème</h2>\n",
    "    <h4 style='text-align: left; color: #fbe216; padding:10px; margin-right: 50px;'>Problème de décision</h4>\n",
    "    <p>\n",
    "        Durant notre projet, nous allons chercher à répondre au problème de décision suivant : \n",
    "        <em>\"Est-il possible de créer des itinéraires pour un ensemble de véhicules, partant tous d'un même dépôt, afin de livrer des marchandises à un ensemble de clients, en tenant compte des conditions de circulations, de sorte à minimiser le temps total de livraison ?\"</em>        \n",
    "    </p>"
   ]
  },
  {
   "attachments": {},
   "cell_type": "markdown",
   "metadata": {},
   "source": [
    "En prenant en compte un graphe pondéré $G$ dont les sommets $V_i$ (de l'ensemble des sommets $V$) représentent les villes et dont les arêtes $E_j$ (de l'ensemble des arêtes $E$) représentent les routes entre chacunes de ces villes, le problème de décision précédent devient : <em>\"Est-il possible de trouver dans $G$, $n$ cycles où chaque cycle représente le trajet d'un véhicule partant tous d'un même sommet $V_0$, afin que chaque sommet soit dans un cycle et de sorte à minimiser le temps de livraison $t$ ?\"</em>\n"
   ]
  },
  {
   "attachments": {},
   "cell_type": "markdown",
   "metadata": {},
   "source": [
    "<h4 style='text-align: left; color: #fbe216; padding:10px; margin-right: 50px;'>Problème d'optimisation</h4>"
   ]
  },
  {
   "attachments": {},
   "cell_type": "markdown",
   "metadata": {},
   "source": [
    "De ce problème de décision, nous allons chercher à optimiser le temps de livraison. Pour cela, on formule le problème d'optimisation suivant : \"Quelle est la plus petite valeur de $t$ pour laquelle la réponse au problème de décision est 'oui'\" ?"
   ]
  },
  {
   "attachments": {},
   "cell_type": "markdown",
   "metadata": {},
   "source": [
    "<h2 style='text-align: left; color: #fbe216; font-weight:bold; padding:10px; margin-right: 50px;'>Compléxité</h2>"
   ]
  },
  {
   "attachments": {},
   "cell_type": "markdown",
   "metadata": {},
   "source": [
    "Pour savoir dans quelle classe de compléxité se situe notre problème, on va chercher à déterminer si :\n",
    "- Il peut être résolu en temps polynomial, alors il sera polynomial, alors il appartiendra à la classe $\\text{P}$,\n",
    "- Il peut être vérifiable mais non résolvable en temps polynomial, alors il appartiendra à la classe $\\text{NP}$,\n",
    "- Il est possible de réduire tout problème à ce problème, alors il appartiendra à la classe $\\text{NP-Difficile}$,\n",
    "- Il appartient à la fois à la classe $\\text{NP}$ et à la classe $\\text{NP-Difficile}$, alors il appartient aussi à la classe $\\text{NP-Complet}$\n",
    "\n",
    "Commençons par voir si il est possible de vérifier qu'une proposition est bien solution de notre problème en trouvant un algorithme capable de faire cette validation en temps polynomial. Un algorithme dans ce cas pourrait être le suivant :"
   ]
  },
  {
   "attachments": {},
   "cell_type": "markdown",
   "metadata": {},
   "source": []
  },
  {
   "attachments": {},
   "cell_type": "markdown",
   "metadata": {},
   "source": [
    "#### Exemple appliqué\n",
    "\n"
   ]
  },
  {
   "attachments": {},
   "cell_type": "markdown",
   "metadata": {},
   "source": [
    "<div style=\"display:flex; flex-direction:row; justify-content: space-between;\">\n",
    "    <img style=\"width: 500px;\" src=\"https://i.imgur.com/u5V0Bhv.png\">\n",
    "    <img style=\"width: 500px;\" src=\"https://i.imgur.com/mi2oN6d.png\">\n",
    "</div>\n",
    "\n",
    "On considère ce graphe comme étant complet c'est à dire que tous les sommets sont reliès aux autres sommets par une seule arrête."
   ]
  },
  {
   "cell_type": "code",
   "execution_count": 1,
   "metadata": {},
   "outputs": [
    {
     "name": "stdout",
     "output_type": "stream",
     "text": [
      "La solution proposée n'est pas valide\n"
     ]
    }
   ],
   "source": [
    "# Dictionnaire permettant de totaliser le nombre de fois qu'un des 16 sommets est visité\n",
    "dico_verification = {1: 0, 2: 0, 3: 0, 4: 0, 5: 0}\n",
    "\n",
    "graph_matrix = [\n",
    "    [0, 1, 1, 2, 2],\n",
    "    [1, 0, 2, 4, 3],\n",
    "    [1, 2, 0, 4, 5],\n",
    "    [2, 4, 4, 0, 3],\n",
    "    [2, 3, 5, 3, 0]\n",
    "\n",
    "# Listes de cycles proposés en solution\n",
    "cycles = [\n",
    "    [2, 1, 3, 2],\n",
    "    [2, 5, 4, 2]\n",
    "]\n",
    "\n",
    "depot = 0 # Sommet de départ et d'arrivée (dépôt)\n",
    "is_valid = True # La solution est-elle valide ou non\n",
    "\n",
    "for cycle in cycles:\n",
    "    # On vérifie que le cycle commence et se termine bien au dépôt\n",
    "    depart = cycle.pop(0)\n",
    "    arrivee = cycle.pop(-1)\n",
    "    if depart != depot or arrivee != depot:\n",
    "        is_valid = False\n",
    "        break\n",
    "\n",
    "    # On vérifie que le cycle ne contient pas de doublons\n",
    "    for sommet in cycle:\n",
    "        if dico_verification[sommet] == 1:\n",
    "            is_valid= False\n",
    "            break\n",
    "        else:\n",
    "            dico_verification[sommet] = 1\n",
    "\n",
    "if(is_valid):\n",
    "    print(\"La solution proposée est valide\")\n",
    "else:\n",
    "    print(\"La solution proposée n'est pas valide\")\n"
   ]
  },
  {
   "attachments": {},
   "cell_type": "markdown",
   "metadata": {},
   "source": [
    "\n",
    "    Classe de compléxité du problème ? Pourquoi ?\n",
    "    Explication de l'algo de vérification.\n",
    "\n",
    "<h2 style='text-align: left; color: #fbe216; font-weight:bold; padding:10px; margin-right: 50px;'>Méthode de résolution</h2>\n",
    "    Structure de données envisagées ?\n",
    "    Type de graphes testés ?\n",
    "    Méthode de génération des graphes"
   ]
  },
  {
   "attachments": {},
   "cell_type": "markdown",
   "metadata": {},
   "source": [
    "<h2 style='text-align: left; color: #fbe216; font-weight:bold; padding:10px; margin-right: 50px;'>Références</h2>\n",
    "    <ul>\n",
    "        <li><a href=\"https://en.wikipedia.org/wiki/Vehicle_routing_problem\">Vehicule Routing Problem</a>, Wikipedia (19 Mai 2023)</li>\n",
    "        <li><a href=\"https://en.wikipedia.org/wiki/Travelling_salesman_problem\">Travelling Salesman Problem</a>, Wikipedia (21 Mai 2023) </li>\n",
    "        <li><a href=\"https://www.i3s.unice.fr/~malapert/publications/malapert-06-FT.pdf\">Optimisation de tournées de véhicules pour\n",
    "l’exploitation de Réseau Telecom</a>, Arnaud Malapert, i3s.unice.fr (6 Septembre 2006) </li>\n",
    "    </ul>"
   ]
  },
  {
   "cell_type": "code",
   "execution_count": null,
   "metadata": {},
   "outputs": [],
   "source": []
  },
  {
   "attachments": {},
   "cell_type": "markdown",
   "metadata": {},
   "source": []
  },
  {
   "attachments": {},
   "cell_type": "markdown",
   "metadata": {},
   "source": [
    "<h1>Projet Algorithmique Avancée</h1>\n",
    "\n",
    "- TRAFFIC en fonction des horaires\n",
    "\n",
    "- Chaque sommet => Une ville\n",
    "- Objectif : passé par chaque sommet donc trouver un cycle hamiltonien\n",
    "- Graphe non orienté\n",
    "- Pondération : [\n",
    "    Distance,\n",
    "    Vitesse moyenne (variation qui se justifie par plein de phénomènes (travaux, circulation...)),\n",
    "]\n",
    "- Contrainte sur le temps de trajet d'un chauffeur (4h30 de conduite / Pause / 4h30 de conduite)\n",
    "- k camions disponibles simultanément pour effectuer les livraisons. Le calcul de la tournée devra inclure l’affectation des objets (et donc des points de livraison) aux différents camions disponibles, et minimiser non plus le temps total, mais la date de retour du dernier camion à la base.\n",
    "- Capacités des camions"
   ]
  }
 ],
 "metadata": {
  "kernelspec": {
   "display_name": "algo_env",
   "language": "python",
   "name": "python3"
  },
  "language_info": {
   "codemirror_mode": {
    "name": "ipython",
    "version": 3
   },
   "file_extension": ".py",
   "mimetype": "text/x-python",
   "name": "python",
   "nbconvert_exporter": "python",
   "pygments_lexer": "ipython3",
   "version": "3.11.3"
  },
  "orig_nbformat": 4
 },
 "nbformat": 4,
 "nbformat_minor": 2
}
