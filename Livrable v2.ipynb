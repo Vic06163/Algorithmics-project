{
 "cells": [
  {
   "attachments": {},
   "cell_type": "markdown",
   "metadata": {},
   "source": [
    "<div style='display: flex; flex-direction: row; align-items: center; justify-content: space-between; color: black;  background: #fbe216; margin-right: 50px; height: 100px;'>\n",
    "<h1 style=\"width: 90%; text-align: center; padding-top: 20px; font-weight:bold;\">Projet Algorithmique Avancée</h1>\n",
    "<img src=\"https://www.cesi.fr/wp-content/uploads/2022/07/lg_cesi.png\" style=\"width: 100px; height: 100px;\">\n",
    "</div>\n",
    "\n",
    "<h4 style='text-align: left; color: #fbe216; font-weight:bold; padding:10px; margin-right: 50px;'>Prérequis</h4>"
   ]
  },
  {
   "attachments": {},
   "cell_type": "markdown",
   "metadata": {},
   "source": [
    "Ce document intégre des codes Python. Pour pouvoir les exécuter, les paquets ci-après sont requis. Il suffit simplement de lancer la prochaine cellule pour les installer automatiquement dans l'environnement en cours."
   ]
  },
  {
   "cell_type": "code",
   "execution_count": 2,
   "metadata": {},
   "outputs": [
    {
     "name": "stdout",
     "output_type": "stream",
     "text": [
      "Requirement already satisfied: numpy in c:\\users\\mxmdu\\onedrive\\cesi\\a3 - semestre 6\\4) projet algo avancé\\algo_env\\lib\\site-packages (1.24.3)\n",
      "Requirement already satisfied: matplotlib in c:\\users\\mxmdu\\onedrive\\cesi\\a3 - semestre 6\\4) projet algo avancé\\algo_env\\lib\\site-packages (3.7.1)\n",
      "Requirement already satisfied: contourpy>=1.0.1 in c:\\users\\mxmdu\\onedrive\\cesi\\a3 - semestre 6\\4) projet algo avancé\\algo_env\\lib\\site-packages (from matplotlib) (1.0.7)\n",
      "Requirement already satisfied: cycler>=0.10 in c:\\users\\mxmdu\\onedrive\\cesi\\a3 - semestre 6\\4) projet algo avancé\\algo_env\\lib\\site-packages (from matplotlib) (0.11.0)\n",
      "Requirement already satisfied: fonttools>=4.22.0 in c:\\users\\mxmdu\\onedrive\\cesi\\a3 - semestre 6\\4) projet algo avancé\\algo_env\\lib\\site-packages (from matplotlib) (4.39.4)\n",
      "Requirement already satisfied: kiwisolver>=1.0.1 in c:\\users\\mxmdu\\onedrive\\cesi\\a3 - semestre 6\\4) projet algo avancé\\algo_env\\lib\\site-packages (from matplotlib) (1.4.4)\n",
      "Requirement already satisfied: numpy>=1.20 in c:\\users\\mxmdu\\onedrive\\cesi\\a3 - semestre 6\\4) projet algo avancé\\algo_env\\lib\\site-packages (from matplotlib) (1.24.3)\n",
      "Requirement already satisfied: packaging>=20.0 in c:\\users\\mxmdu\\onedrive\\cesi\\a3 - semestre 6\\4) projet algo avancé\\algo_env\\lib\\site-packages (from matplotlib) (23.1)\n",
      "Requirement already satisfied: pillow>=6.2.0 in c:\\users\\mxmdu\\onedrive\\cesi\\a3 - semestre 6\\4) projet algo avancé\\algo_env\\lib\\site-packages (from matplotlib) (9.5.0)\n",
      "Requirement already satisfied: pyparsing>=2.3.1 in c:\\users\\mxmdu\\onedrive\\cesi\\a3 - semestre 6\\4) projet algo avancé\\algo_env\\lib\\site-packages (from matplotlib) (3.0.9)\n",
      "Requirement already satisfied: python-dateutil>=2.7 in c:\\users\\mxmdu\\onedrive\\cesi\\a3 - semestre 6\\4) projet algo avancé\\algo_env\\lib\\site-packages (from matplotlib) (2.8.2)\n",
      "Requirement already satisfied: six>=1.5 in c:\\users\\mxmdu\\onedrive\\cesi\\a3 - semestre 6\\4) projet algo avancé\\algo_env\\lib\\site-packages (from python-dateutil>=2.7->matplotlib) (1.16.0)\n",
      "Requirement already satisfied: networkx in c:\\users\\mxmdu\\onedrive\\cesi\\a3 - semestre 6\\4) projet algo avancé\\algo_env\\lib\\site-packages (3.1)\n"
     ]
    }
   ],
   "source": [
    "!pip install numpy\n",
    "!pip install matplotlib\n",
    "!pip install networkx"
   ]
  },
  {
   "cell_type": "code",
   "execution_count": 3,
   "metadata": {},
   "outputs": [],
   "source": [
    "import numpy as np\n",
    "import matplotlib.pyplot as plt\n",
    "import networkx as nx\n",
    "import random"
   ]
  },
  {
   "attachments": {},
   "cell_type": "markdown",
   "metadata": {},
   "source": [
    "<p>\n",
    "    Aujourd'hui, la réduction des émissions de gaz à effet de serre est un enjeu prioritaire pour de nombreux pays. De nombreux accords ont été signés entre les états. Les premiers engagements, sont apparus lors de la signature du protocole de Kyoto en 1997. Les scientifiques jugent aujourd'hui insufisant l'entrée en vigueur de ce protocole face à l'avancement du réchauffement climatique.<br/>\n",
    "    L'action est donc portée sur un changement des comportements au sein de notre société pour essayer de diminuer notre impact environnemental. Ceci commence notamment avec une adaptation de l'usage des transports.\n",
    "</p>\n",
    "\n",
    "<h4 style='text-align: left; color: #fbe216; font-weight:bold; padding:10px; margin-right: 50px;'>Présentation de l'équipe en charge du projet</h4>\n",
    "\n",
    "<table style=\"border: none;\">\n",
    "    <tbody style=\"border: none;\">\n",
    "        <tr style=\"border: none;\">\n",
    "            <td style=\"border: none;\">\n",
    "                <img src=\"https://dsm04pap003files.storage.live.com/y4mrPh_yseUFfOwtw3T7wvGeQdKdXiR8yh_3CjvI4iWvuvra7VV8dRTKsZiE8hJ3bolrevZjC4hL0yRh8Edzq-e4zxUuJYBrx8DIjYvzTb5UAf64CuMMSt1zzjMv4d5rmrqqCsrEo2S3wWh9E2eHvMYpyy9XcvZo7fkQf1O2inCrm7TLMXn8L3dUK7HSEvVABnb?width=800&height=800&cropmode=center\" />\n",
    "            </td>\n",
    "            <td style=\"border: none;\">\n",
    "                <img src=\"https://dsm04pap003files.storage.live.com/y4mdrJBIrMjk5K4hzU8-NjQcWUPl16XfAnWJ3A8cQO9quUGBzFtPOWRlPFmVbyz65M2lWD-zj44bSaP7I4jEHGwNh71ojMqM0wlAX-iRZzav3XJugn5CBOQzmWqGmCvlJtYhk_7WIJYEF7cCXavTmJYvPaOyNrqrK_s2Vq7pGAvvwCw2MhIsyp-E1UMCmL1G6Lu?width=800&height=800&cropmode=none\" />\n",
    "            </td>\n",
    "            <td style=\"border: none;\">\n",
    "                <img src=\"https://dsm04pap003files.storage.live.com/y4moTSNS4nfGmU6y_-tBqjzSg2T1fbVCmQv0BRlF96XsCtOaxYssk6atj-pjWt9igxxffMkB30nwdea-QVGu4KllEAKuJ5zmtOJNEznMIDbg0NebAFskm70eaCtgsaKJ0uNMK4O9EWekPkDejQRAQZP2THzIexzWX124wwKoBW2Y83Ib2Ux7hlUpMf5a2qlkaFy?width=800&height=800&cropmode=center\" />\n",
    "            </td>\n",
    "            <td style=\"border: none;\">\n",
    "                <img src=\"https://media.licdn.com/dms/image/C4E03AQG1N6JHdPo1Tg/profile-displayphoto-shrink_800_800/0/1632410457548?e=1691020800&v=beta&t=m4IyU1snzhLHpoNZJk5ducohQaV4ppT-lrrEFjJfJrI\">\n",
    "            </td>\n",
    "        </tr>\n",
    "        <tr style=\"border: none;\">\n",
    "            <td style=\"border: none;\">\n",
    "                <p style=\"text-align: center; font-weight:bold;\">Victor BILLAT <br/><br/> <span style=\"font-weight:normal;\">Chef de projet</span></p>\n",
    "            </td>\n",
    "            <td style=\"border: none;\">\n",
    "                <p style=\"text-align: center; font-weight:bold;\">Vincent VERLAAN</p>\n",
    "            </td>\n",
    "            <td style=\"border: none;\">\n",
    "                <p style=\"text-align: center; font-weight:bold;\">Valentin GIRAUDEAU</p>\n",
    "            </td>\n",
    "            <td style=\"border: none;\">\n",
    "                <p style=\"text-align: center; font-weight:bold;\">Maxime DUCASSE</p>\n",
    "            </td>\n",
    "        </tr>\n",
    "    </tbody>\n",
    "<table>\n",
    "<h2 style='text-align: left; color: #fbe216; font-weight:bold; padding:10px; margin-right: 50px;'>Identification du problème</h2>\n",
    "    <p>\n",
    "        Pour répondre, à l'appel d'offre lancé par l'ADEME (Agence de l'Environnement et de la Maîtrise de l'Energie), notre équipe CesiCDP décide d'orienter son travail sur la gestion de tournées de livraison. Pour cela, nous souhaitons mettre en place une solution algortihmique permettant de minimiser le temps d'une tournée de livraison entre différentes villes au travers d'un réseau routier.\n",
    "        <br/>\n",
    "        L'objectif de ce projet consiste en :\n",
    "    </p>\n",
    "    <ul>\n",
    "        <li>La réalisation d'un algorithme capable d'accueillir des entrées de tailles variables.</li>\n",
    "        <li>Une étude statistique du comportement du dit algorithme.</li>\n",
    "    </ul>\n",
    "    <h4 style=\"color: #fbe216\">Contraintes :</h4>\n",
    "        <p>\n",
    "            Nous avons fait le choix d'implémenter certaines contraintes à notre projet pour essayer d'obtenir des résultats plus réalistes qui tiennent compte de contraintes techniques du domaine des transport routiers. Parmis une liste de suggestions, nous en avons séléctionné deux pour notre problème :\n",
    "        </p>\n",
    "        <ul>\n",
    "            <li><strong>Traffic :</strong> L'algorithme sera capable de prendre en compte des évolutions du traffic sur les différents axes en fonction des horaires de la journée. Ceci aura un impact sur la vitesse de déplacement de nos camions. Ainsi, le temps du circuit de livraison pourra être impacté.</li>\n",
    "            <li><strong>Nombre de camions :</strong> L'algorithme devra tenir compte d'un nombre de camions disponibles simultanément pour pouvoir répartir les livraisons. Le calcul de la tournée inclura l’affectation des objets (et donc des points de livraison) aux différents camions disponibles, et minimisera la date de retour du dernier camion au dépôt.\n",
    "            </li>\n",
    "        </ul>\n",
    "    <h4 style=\"color: #fbe216\">Autres problèmes connus :</h4>\n",
    "        <p>\n",
    "            Notre problème correspond au <strong>problème de tournées des véhicules (Véhicule Routing Problem, VRP)</strong>. Ce dernier cherche à déterminer les différents trajets empruntés par une flotte de véhicules pour livrer différents clients avant de revenir au dépôt. Le but de ce problème est de minimiser le temps de livraison des différents produits.\n",
    "        </p>\n",
    "        <p>\n",
    "            Le problème VRP est un dérivé de celui du <strong>voyageur du commerce (Travelling Salesman Problem, TSP)</strong>. Ce dernier ne prend en considération qu'un seul véhicule pour effectuer la tournée et ainsi consiste à déterminer, selon un ensemble de villes et les distances les séparant, une tournée la plus courte pour livrer chacune des villes une et une seule fois. Ceci revient à chercher le plus court cycle hamiltonien dans un graphe G.\n",
    "        </p>\n",
    "\n",
    "\n",
    "<h2 style='text-align: left; color: #fbe216; font-weight:bold; padding:10px; margin-right: 50px;'>Définition mathématique du problème</h2>\n",
    "    <h4 style='text-align: left; color: #fbe216; padding:10px; margin-right: 50px;'>Problème de décision</h4>\n",
    "    <p>\n",
    "        Durant notre projet, nous allons chercher à répondre au problème de décision suivant : \n",
    "        <em>\"Est-il possible de créer des itinéraires pour un ensemble de véhicules, partant tous d'un même dépôt, afin de livrer des marchandises à un ensemble de clients, en tenant compte des conditions de circulations, de sorte à minimiser le temps total de livraison ?\"</em>        \n",
    "    </p>"
   ]
  },
  {
   "attachments": {},
   "cell_type": "markdown",
   "metadata": {},
   "source": [
    "En prenant en compte un graphe pondéré $G$ dont les sommets $V_i$ (de l'ensemble des sommets $V$) représentent les villes et dont les arêtes $E_j$ (de l'ensemble des arêtes $E$) représentent les routes entre chacunes de ces villes, le problème de décision précédent devient : <em>\"Est-il possible de trouver dans $G$, $n$ cycles où chaque cycle représente le trajet d'un véhicule partant tous d'un même sommet $V_0$, afin que chaque sommet soit dans un cycle et de sorte à minimiser le temps de livraison $t$ ?\"</em>\n"
   ]
  },
  {
   "attachments": {},
   "cell_type": "markdown",
   "metadata": {},
   "source": [
    "<h4 style='text-align: left; color: #fbe216; padding:10px; margin-right: 50px;'>Problème d'optimisation</h4>"
   ]
  },
  {
   "attachments": {},
   "cell_type": "markdown",
   "metadata": {},
   "source": [
    "De ce problème de décision, nous allons chercher à optimiser le temps de livraison. Pour cela, on formule le problème d'optimisation suivant : \"Quelle est la plus petite valeur de $t$ pour laquelle la réponse au problème de décision est 'oui'\" ?"
   ]
  },
  {
   "attachments": {},
   "cell_type": "markdown",
   "metadata": {},
   "source": [
    "<h2 style='text-align: left; color: #fbe216; font-weight:bold; padding:10px; margin-right: 50px;'>Complexité</h2>"
   ]
  },
  {
   "attachments": {},
   "cell_type": "markdown",
   "metadata": {},
   "source": [
    "Pour savoir dans quelle classe de complexité se situe notre problème, on va chercher à déterminer si :\n",
    "- Il peut être résolu en temps polynomial, il sera polynomial, alors il appartiendra à la classe $\\text{P}$,\n",
    "- Il peut être vérifiable mais non résolvable en temps polynomial, alors il appartiendra à la classe $\\text{NP}$,\n",
    "- Il est possible de réduire tout problème à ce problème, alors il appartiendra à la classe $\\text{NP-Difficile}$,\n",
    "- Il appartient à la fois à la classe $\\text{NP}$ et à la classe $\\text{NP-Difficile}$, alors il appartient aussi à la classe $\\text{NP-Complet}$\n",
    "\n",
    "Commençons par voir s'il est possible de vérifier qu'une proposition est bien solution de notre problème en trouvant un algorithme capable de faire cette validation en temps polynomial. Un algorithme dans ce cas pourrait être le suivant :\n",
    "\n",
    "<div>\n",
    "    <p> Soit une liste <strong>L</strong> de <strong>n</strong> cycles notés (<strong>C<sub>i</sub></strong> pour <strong>i</strong> allant de <strong>1</strong> à <strong>n</strong>). On crée un dictionnaire <strong>D</strong> ayant pour paire clé/valeur un sommet et un booléen.<br/>\n",
    "    Exemple : <code>D={S<sub>1</sub>: True, ... S<sub>n</sub>: False}</code>\n",
    "    </p>\n",
    "    <blockquote>\n",
    "    <p>\n",
    "        Pour chaque cycle <strong>C<sub>i</sub><br/></strong>\n",
    "        <span style=\"padding-left: 30px;\">\n",
    "        Si le point de départ n'est pas le même qu'à l'arrivée et qu'il ne correpond pas au dépôt\n",
    "        </span><br/>\n",
    "        <span style=\"padding-left: 60px;\">\n",
    "            La solution n'est pas valide\n",
    "        </span><br/>\n",
    "        <span style=\"padding-left: 60px;\">\n",
    "            On arrête le programme\n",
    "        </span><br/>\n",
    "        <span style=\"padding-left: 30px;\">\n",
    "            Pour chaque sommet <strong>S</strong> du cycle <strong>C<sub>i</sub></strong>\n",
    "        </span><br/>\n",
    "        <span style=\"padding-left: 60px;\">\n",
    "            Si la valeur du dictionnaire pour le sommet <strong>S</strong> est <strong>Vrai</strong>\n",
    "        </span><br/>\n",
    "        <span style=\"padding-left: 90px;\">\n",
    "            Le sommet a déjà été visité donc la solution n'est pas valide\n",
    "        </span><br/>\n",
    "        <span style=\"padding-left: 90px;\">\n",
    "            On arrête le programme\n",
    "        </span><br/>\n",
    "        <span style=\"padding-left: 60px;\">\n",
    "            Sinon\n",
    "        </span><br/>\n",
    "        <span style=\"padding-left: 90px;\">\n",
    "            On met la valeur du dictionnaire pour le sommet <strong>S</strong> à <strong>1</strong>\n",
    "        </span><br/>\n",
    "        Pour chaque sommet <strong>S<sub>i</sub></strong> du dictionnaire<br/>\n",
    "        <span style=\"padding-left: 30px;\">\n",
    "        Si le sommet n'a pas été visité\n",
    "        </span><br/>\n",
    "        <span style=\"padding-left: 60px;\">\n",
    "            La solution n'est pas valide\n",
    "        </span><br/>\n",
    "        <span style=\"padding-left: 60px;\">\n",
    "            On arrête le programme\n",
    "        </span><br/>\n",
    "    </p>\n",
    "    </blockquote>\n",
    "<div>\n",
    "\n",
    "<p>\n",
    "On peut appliquer cet algortihme à un exemple pour vérifier sa fonctionnalité :\n",
    "</p>"
   ]
  },
  {
   "attachments": {},
   "cell_type": "markdown",
   "metadata": {},
   "source": [
    "<div style=\"display:flex; flex-direction:row; justify-content: space-between;\">\n",
    "    <img style=\"width: 500px;\" src=\"https://i.imgur.com/u5V0Bhv.png\">\n",
    "    <img style=\"width: 500px;\" src=\"https://i.imgur.com/mi2oN6d.png\">\n",
    "</div>"
   ]
  },
  {
   "cell_type": "code",
   "execution_count": 4,
   "metadata": {},
   "outputs": [
    {
     "name": "stdout",
     "output_type": "stream",
     "text": [
      "La solution proposée est valide\n"
     ]
    }
   ],
   "source": [
    "# Dictionnaire permettant de totaliser le nombre de fois qu'un des 16 sommets est visité\n",
    "dico_verification = {\n",
    "    1: 0, \n",
    "    2: 0, \n",
    "    3: 0, \n",
    "    4: 0, \n",
    "    5: 0\n",
    "}\n",
    "\n",
    "# Liste de cycles proposés en solution\n",
    "cycles = [\n",
    "    [2, 1, 3, 2],\n",
    "    [2, 5, 4, 2]\n",
    "]\n",
    "\n",
    "depot = 2 # Sommet de départ et d'arrivée (dépôt)\n",
    "is_valid = True # La solution est-elle valide ou non\n",
    "\n",
    "for cycle in cycles:\n",
    "    # On vérifie que le cycle commence et se termine bien au dépôt\n",
    "    if cycle[0] != depot or cycle[-1] != depot:\n",
    "        is_valid = False\n",
    "        break\n",
    "\n",
    "    cycle.pop(0) # On retire le premier élément du cycle (qui est le dépôt)\n",
    "    cycle.pop(-1) # On retire le dernier élément du cycle (qui est le dépôt)\n",
    "\n",
    "    # On vérifie que le cycle ne contient pas de doublons\n",
    "    for sommet in cycle:\n",
    "        if dico_verification[sommet] == 1:\n",
    "            is_valid= False\n",
    "            break\n",
    "        else:\n",
    "            dico_verification[sommet] = 1\n",
    "\n",
    "if is_valid:\n",
    "    for sommet in dico_verification:\n",
    "        if sommet == depot:\n",
    "            continue\n",
    "\n",
    "        # On vérifie que chaque sommet est visité une et une seule fois\n",
    "        if dico_verification[sommet] == 0:\n",
    "            is_valid = False\n",
    "            break\n",
    "\n",
    "if(is_valid):\n",
    "    print(\"La solution proposée est valide\")\n",
    "else:\n",
    "    print(\"La solution proposée n'est pas valide\")"
   ]
  },
  {
   "attachments": {},
   "cell_type": "markdown",
   "metadata": {},
   "source": [
    "Comme on peut le voir, notre algorithme de vérification va contrôler les $n$ sommets de notre graphe afin de s'assurer qu'ils sont tous visités une et une seule fois par un camion lors de sa tournée de livraison. Ce programme à donc une complexité qui est polynomial valant : $O(N)$.\n",
    "Ainsi, le problème étant vérifiable de façon polynomial, nous pouvons attribuer ce dernier à la classe $NP$."
   ]
  },
  {
   "attachments": {},
   "cell_type": "markdown",
   "metadata": {},
   "source": [
    "De plus, notre problème s'apparente à celui du voyageur du commerce qui est $\\text{NP-Complet}$ c'est-à-dire qu'il appartient aussi bien à la classe $NP$ qu'à la classe $\\text{NP-Difficile}$. Pour rappel, le voyageur du commerce est un problème qui consiste à déterminer s'il existe un cycle qui parcourt tous les sommets d'un graphe une et une seule fois.\n",
    "<br/><br/>\n",
    "Dans notre cas, notre programme est capable de résoudre un problème similaire en ayant $k$ véhicules qui livrent. Ainsi, une instance $I$ du voyageur du commerce, peut être réduite à une instance $I_2$ de notre problème en prenant $k=1$. Cette réduction, nous permet d'associer un problème $\\text{NP-Difficile}$ à notre problème $NP$. Ceci rend notre problème au moins aussi difficile qu'un problème de la classe $\\text{NP-Difficile}$. On peut ainsi dire que le problème de tournées de véhicules auquel nous essayons de répondre, appartient à la classe $NP$ et $\\text{NP-Difficile}$ ce qui le rend $\\text{NP-Complet}$."
   ]
  },
  {
   "attachments": {},
   "cell_type": "markdown",
   "metadata": {},
   "source": []
  },
  {
   "attachments": {},
   "cell_type": "markdown",
   "metadata": {},
   "source": [
    "<h2 style='text-align: left; color: #fbe216; font-weight:bold; padding:10px; margin-right: 50px;'>Modélisation mathématique du problème</h2>\n",
    "\n",
    "<h4 style='text-align: left; color: #fbe216; padding:10px; margin-right: 50px;'>Variables</h4>\n",
    "\n",
    "$G$ : Un graphe complet pondéré <br/>\n",
    "$K$ : l'ensemble de tous les camions participant à la tournée <br/>\n",
    "$N$ : l'ensemble des nombres entiers positifs <br/>\n",
    "$V$ : l'ensemble des sommets du graphe $G$ <br/>\n",
    "$E$ : l'ensemble des arêtes du graphe $G$ <br/>\n",
    "$k$ : un camion donné de l'ensemble $K$ <br/>\n",
    "$x_{ij}$ : une variable booléene vérifiant : \"L'arête entre le sommet $i$ et le sommet $j$ est empruntée\", d'où $x_{ijk}$ une variable booléene vérifiant \"L'arête entre le sommet $i$ et le sommet $j$ est empruntée par le camion $k$\" <br/>\n",
    "$y_{i}$ : une variable booléene vérifiant : \"Le sommet $i$ est visité\", d'où $y_{ik}$ une variable booléen vérifiant \"Le sommet $i$ est visité par le camion $k$ <br/>\n",
    "$c_{ij}(h)$ : le poids de l'arête entre le sommet $i$ et le sommet $j$ à l'heure $h$\n",
    "\n",
    "<h4 style='text-align: left; color: #fbe216; padding:10px; margin-right: 50px;'>Fonction Economique</h4>\n",
    "\n",
    "$$\\text{Minimiser} \\qquad t = \\sum_{k \\in K}\\sum_{i \\in V}\\sum_{j \\in V}{x_{ijk} c_{ij}(h)}$$\n",
    "\n",
    "<h4 style='text-align: left; color: #fbe216; padding:10px; margin-right: 50px;'>Contraintes</h4>\n",
    "\n",
    "L'une des premières contraintes de notre projet consiste à s'assurer que chaque sommet est visité une seule fois. Dans notre cas, cette contrainte revient à empécher plusieurs camions de visiter un sommet et à s'assurer que le sommet possède un seul chemin d'arriver et un seul chemin de départ pour quitter le sommet en question. Cette contrainte s'applique à l'ensemble des sommets sauf pour le dépôt qui lui est visité par plusieurs camions. On peut exprimer ça comme ceci :\n",
    "\n",
    "- Chaque sommet est visité par un seul camion :\n",
    "\n",
    "$$\\sum_{k \\in K}^{i > 0}y_{ik} = 1\\qquad \\forall i \\ne 0 \\in V$$\n",
    "\n",
    "- Chaque sommet à une seule arrivée\n",
    "\n",
    "$$\\sum_{i \\in V} x_{ijk} = y_{jk}\\qquad \\forall j \\in N, \\forall k \\in K$$\n",
    "\n",
    "- Chaque sommet à un seul départ\n",
    "\n",
    "$$\\sum_{i \\in V} x_{ijk} = y_{ik}\\qquad \\forall j \\in N, \\forall k \\in K$$\n",
    "\n",
    "Par ailleurs c'est deux contraintes ci-dessus permettent d'empécher notre camion de faire demi-tour. Si le sommet ne possède qu'une seule arrivée et qu'un seul départ, on est assuré que notre camion ne repasse pas par notre sommet.\n",
    "\n",
    "/!\\ Stop Ici /!\\\n",
    "\n",
    "\n",
    "- Chaque camion quitte et revient au dépôt\n",
    "\n",
    "$$\\sum_{i \\in V}^{i>0} x_{0ik} = 2$$"
   ]
  },
  {
   "attachments": {},
   "cell_type": "markdown",
   "metadata": {},
   "source": [
    "<h2 style='text-align: left; color: #fbe216; font-weight:bold; padding:10px; margin-right: 50px;'>Méthode de résolution</h2>\n",
    "\n",
    "<h4 style='text-align: left; color: #fbe216; padding:10px; margin-right: 50px;'>Structure de données envisagée</h4>\n",
    "        \n",
    "On compte générer notre graphe à l'aide d'une matrice d'adjacence de taille $n$ correspondant au nombre de sommet du graphe.\n",
    "\n",
    "$$M_{i, j} = \\begin{pmatrix} S_{1,1} & S_{1,2} & \\cdots & S_{1,j} \\\\ S_{2,1} & S_{2,2} & \\cdots & S_{2,j} \\\\ \\vdots  & \\vdots  & \\ddots & \\vdots  \\\\ S_{i,1} & S_{i,2} & \\cdots & S_{i,j} \\end{pmatrix}$$\n",
    "\n",
    "$$\\forall i \\in [0,n] ; \\text{et} ; \\forall j \\in [0,n]$$\n",
    "\n",
    "<h4 style='text-align: left; color: #fbe216; padding:10px; margin-right: 50px;'>Type de graphe à tester</h4>\n",
    "    Nous allons réaliser le projet sur des graphes connexes. \n",
    "    Nous allons générer un graphe complet pour s'assurer que chacune de nos villes soit atteignable.\n",
    "    Pour la taille des graphes, nous allons générer trois instances. Un graphe à 100 sommets, un deuxième à 1000 sommets et un dernier à 10000 sommets.\n",
    "    Les graphes seront pondérés en fonction du temps de parcours.\n",
    "<h4 style='text-align: left; color: #fbe216; padding:10px; margin-right: 50px;'>Méthode de génération des graphes</h4>\n",
    "\n",
    "Pour générer les graphes, nous allons génerer leur matrice d'adjacence. Pour cela, étant donné que nos graphes ne sont pas orientés, nous allons générer une moitié de la matrice et par symétrie remplir la seconde moitié. Le code ci-dessous reprend ce procédé :"
   ]
  },
  {
   "cell_type": "code",
   "execution_count": 9,
   "metadata": {},
   "outputs": [
    {
     "name": "stdout",
     "output_type": "stream",
     "text": [
      "[[0. 8. 3. 4. 6.]\n",
      " [8. 0. 1. 5. 1.]\n",
      " [3. 1. 0. 2. 9.]\n",
      " [4. 5. 2. 0. 2.]\n",
      " [6. 1. 9. 2. 0.]]\n"
     ]
    },
    {
     "data": {
      "image/png": "[encoded data removed]",
      "text/plain": [
       "<Figure size 640x480 with 1 Axes>"
      ]
     },
     "metadata": {},
     "output_type": "display_data"
    }
   ],
   "source": [
    "def gen_random_graph(n, weight_range=(1, 10)):\n",
    "    \"\"\"\n",
    "    Génère un graphe aléatoire complet pondéré à n sommets\n",
    "    \"\"\"\n",
    "    matrix = np.zeros((n, n))\n",
    "    for i in range(n):\n",
    "        for j in range(i+1, n):\n",
    "            weight = random.randint(*weight_range)\n",
    "            matrix[i][j] = weight\n",
    "            matrix[j][i] = weight\n",
    "\n",
    "    return matrix\n",
    "\n",
    "n = 5 # Nombre de sommets\n",
    "matrix = gen_random_graph(n)\n",
    "\n",
    "print(matrix)\n",
    "graphe = nx.from_numpy_array(matrix)\n",
    "\n",
    "nx.draw(graphe, with_labels=True)\n",
    "plt.show()"
   ]
  },
  {
   "attachments": {},
   "cell_type": "markdown",
   "metadata": {},
   "source": [
    "<h2 style='text-align: left; color: #fbe216; font-weight:bold; padding:10px; margin-right: 50px;'>Références</h2>\n",
    "    <ul>\n",
    "        <li><a href=\"https://en.wikipedia.org/wiki/Vehicle_routing_problem\">Vehicule Routing Problem</a>, Wikipedia (19 Mai 2023)</li>\n",
    "        <li><a href=\"https://en.wikipedia.org/wiki/Travelling_salesman_problem\">Travelling Salesman Problem</a>, Wikipedia (21 Mai 2023) </li>\n",
    "        <li><a href=\"https://www.i3s.unice.fr/~malapert/publications/malapert-06-FT.pdf\">Optimisation de tournées de véhicules pour\n",
    "l’exploitation de Réseau Telecom</a>, Arnaud Malapert, i3s.unice.fr (6 Septembre 2006) </li>\n",
    "    <li><a href=\"https://www.google.com/url?sa=t&rct=j&q=&esrc=s&source=web&cd=&ved=2ahUKEwj5n5if2K7_AhWzSaQEHQ-XCa8QFnoECAUQAQ&url=https%3A%2F%2Fwww.theses.fr%2F2016ARTO0203.pdf&usg=AOvVaw1ej2dEOSPQURBBChuKX1Nv\">Les problèmes de collectes et livraisons avec collaboration et transbordements : modélisations et méthodes approchées</a>, Nicolas Danloup (1 décembre 2016)</li>\n",
    "    </ul>"
   ]
  }
 ],
 "metadata": {
  "kernelspec": {
   "display_name": "algo_env",
   "language": "python",
   "name": "python3"
  },
  "language_info": {
   "codemirror_mode": {
    "name": "ipython",
    "version": 3
   },
   "file_extension": ".py",
   "mimetype": "text/x-python",
   "name": "python",
   "nbconvert_exporter": "python",
   "pygments_lexer": "ipython3",
   "version": "3.11.3"
  }
 },
 "nbformat": 4,
 "nbformat_minor": 4
}
