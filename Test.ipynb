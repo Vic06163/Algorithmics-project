{
 "cells": [
  {
   "cell_type": "code",
   "execution_count": 1,
   "id": "9bd58661-e4d8-4db1-9514-e8714872fa38",
   "metadata": {},
   "outputs": [
    {
     "name": "stdout",
     "output_type": "stream",
     "text": [
      "Hello guys the github is working .. I hope\n"
     ]
    }
   ],
   "source": [
    "print(\"Hello guys the github is working .. I hope\")"
   ]
  }
 ],
 "metadata": {
  "kernelspec": {
   "display_name": "Python 3 (ipykernel)",
   "language": "python",
   "name": "python3"
  },
  "language_info": {
   "codemirror_mode": {
    "name": "ipython",
    "version": 3
   },
   "file_extension": ".py",
   "mimetype": "text/x-python",
   "name": "python",
   "nbconvert_exporter": "python",
   "pygments_lexer": "ipython3",
   "version": "3.9.16"
  }
 },
 "nbformat": 4,
 "nbformat_minor": 5
}
